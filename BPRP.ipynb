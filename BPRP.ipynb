{
 "cells": [
  {
   "cell_type": "code",
   "execution_count": 2,
   "metadata": {},
   "outputs": [],
   "source": [
    "import gaia_spec\n",
    "import matplotlib.pyplot as plt\n",
    "%matplotlib inline"
   ]
  },
  {
   "cell_type": "code",
   "execution_count": 3,
   "metadata": {},
   "outputs": [],
   "source": [
    "BP, RP = gaia_spec.get_bp_rp('spec/lte06000-5.50-1.0.PHOENIX-ACES-AGSS-COND-2011-HiRes.fits')"
   ]
  },
  {
   "cell_type": "code",
   "execution_count": 4,
   "metadata": {},
   "outputs": [],
   "source": [
    "BP1, RP1 = gaia_spec.get_bp_rp('spec/lte06000-5.50-3.0.PHOENIX-ACES-AGSS-COND-2011-HiRes.fits')"
   ]
  },
  {
   "cell_type": "code",
   "execution_count": null,
   "metadata": {},
   "outputs": [],
   "source": [
    "BP2, RP2 = gaia_spec.get_bp_rp('spec/lte06000-2.50-3.0.PHOENIX-ACES-AGSS-COND-2011-HiRes.fits')"
   ]
  },
  {
   "cell_type": "code",
   "execution_count": null,
   "metadata": {},
   "outputs": [],
   "source": [
    "print (np.median(BP2),\n",
    "np.median(BP1))"
   ]
  },
  {
   "cell_type": "code",
   "execution_count": null,
   "metadata": {},
   "outputs": [],
   "source": [
    "plt.figure(figsize=(10,10))\n",
    "plt.plot(np.arange(120),np.r_[BP,RP],label='Teff=6000 logg=5.5 [Fe/H]=-1')\n",
    "plt.plot(np.arange(120),np.r_[BP1,RP1],label='Teff=6000 logg=5.5 [Fe/H]=-3')\n",
    "#plt.plot(np.arange(120),np.r_[BP2,RP2],label='Teff=6000 logg=2.5 [Fe/H]=-3')\n",
    "plt.legend()"
   ]
  },
  {
   "cell_type": "code",
   "execution_count": null,
   "metadata": {},
   "outputs": [],
   "source": []
  }
 ],
 "metadata": {
  "kernelspec": {
   "display_name": "Python 3",
   "language": "python",
   "name": "python3"
  },
  "language_info": {
   "codemirror_mode": {
    "name": "ipython",
    "version": 3
   },
   "file_extension": ".py",
   "mimetype": "text/x-python",
   "name": "python",
   "nbconvert_exporter": "python",
   "pygments_lexer": "ipython3",
   "version": "3.6.9"
  }
 },
 "nbformat": 4,
 "nbformat_minor": 2
}
